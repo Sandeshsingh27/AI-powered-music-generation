{
 "cells": [
  {
   "cell_type": "code",
   "execution_count": 8,
   "metadata": {
    "_cell_guid": "b1076dfc-b9ad-4769-8c92-a6c4dae69d19",
    "_uuid": "8f2839f25d086af736a60e9eeb907d3b93b6e0e5"
   },
   "outputs": [
    {
     "name": "stdout",
     "output_type": "stream",
     "text": [
      "input/midi-data-containing-melodies\\schubert_D850_1.mid\n",
      "input/midi-data-containing-melodies\\schubert_D850_2.mid\n",
      "input/midi-data-containing-melodies\\schubert_D850_3.mid\n",
      "input/midi-data-containing-melodies\\schubert_D850_4.mid\n",
      "input/midi-data-containing-melodies\\schubert_D935_1.mid\n",
      "input/midi-data-containing-melodies\\schubert_D935_2.mid\n",
      "input/midi-data-containing-melodies\\schubert_D935_3.mid\n",
      "input/midi-data-containing-melodies\\schubert_D935_4.mid\n",
      "input/midi-data-containing-melodies\\schub_d760_1.mid\n",
      "input/midi-data-containing-melodies\\schub_d760_2.mid\n",
      "input/midi-data-containing-melodies\\schub_d760_3.mid\n",
      "input/midi-data-containing-melodies\\schub_d760_4.mid\n",
      "input/midi-data-containing-melodies\\schub_d960_1.mid\n",
      "input/midi-data-containing-melodies\\schub_d960_2.mid\n",
      "input/midi-data-containing-melodies\\schub_d960_3.mid\n",
      "input/midi-data-containing-melodies\\schub_d960_4.mid\n",
      "input/midi-data-containing-melodies\\schuim-1.mid\n",
      "input/midi-data-containing-melodies\\schuim-2.mid\n",
      "input/midi-data-containing-melodies\\schuim-3.mid\n",
      "input/midi-data-containing-melodies\\schuim-4.mid\n",
      "input/midi-data-containing-melodies\\schumm-1.mid\n",
      "input/midi-data-containing-melodies\\schumm-2.mid\n",
      "input/midi-data-containing-melodies\\schumm-3.mid\n",
      "input/midi-data-containing-melodies\\schumm-4.mid\n",
      "input/midi-data-containing-melodies\\schumm-5.mid\n",
      "input/midi-data-containing-melodies\\schumm-6.mid\n",
      "input/midi-data-containing-melodies\\schu_143_1.mid\n",
      "input/midi-data-containing-melodies\\schu_143_2.mid\n",
      "input/midi-data-containing-melodies\\schu_143_3.mid\n"
     ]
    }
   ],
   "source": [
    "# This Python 3 environment comes with many helpful analytics libraries installed\n",
    "# It is defined by the kaggle/python Docker image: https://github.com/kaggle/docker-python\n",
    "# For example, here's several helpful packages to load\n",
    "\n",
    "import numpy as np # linear algebra\n",
    "import pandas as pd # data processing, CSV file I/O (e.g. pd.read_csv)\n",
    "\n",
    "# Input data files are available in the read-only \"../input/\" directory\n",
    "# For example, running this (by clicking run or pressing Shift+Enter) will list all files under the input directory\n",
    "\n",
    "import os\n",
    "for dirname, _, filenames in os.walk('input/'):\n",
    "    for filename in filenames:\n",
    "        print(os.path.join(dirname, filename))\n",
    "\n",
    "# You can write up to 5GB to the current directory (/kaggle/working/) that gets preserved as output when you create a version using \"Save & Run All\" \n",
    "# You can also write temporary files to /kaggle/temp/, but they won't be saved outside of the current session"
   ]
  },
  {
   "cell_type": "code",
   "execution_count": 9,
   "metadata": {
    "_cell_guid": "79c7e3d0-c299-4dcb-8224-4455121ee9b0",
    "_uuid": "d629ff2d2480ee46fbb7e2d37f6b5fab8052498a"
   },
   "outputs": [
    {
     "name": "stdout",
     "output_type": "stream",
     "text": [
      "Requirement already satisfied: music21 in d:\\major\\musicgeneration\\env\\lib\\site-packages (9.1.0)\n",
      "Requirement already satisfied: chardet in d:\\major\\musicgeneration\\env\\lib\\site-packages (from music21) (5.2.0)\n",
      "Requirement already satisfied: joblib in d:\\major\\musicgeneration\\env\\lib\\site-packages (from music21) (1.3.2)\n",
      "Requirement already satisfied: jsonpickle in d:\\major\\musicgeneration\\env\\lib\\site-packages (from music21) (3.0.1)\n",
      "Requirement already satisfied: matplotlib in d:\\major\\musicgeneration\\env\\lib\\site-packages (from music21) (3.7.2)\n",
      "Requirement already satisfied: more-itertools in d:\\major\\musicgeneration\\env\\lib\\site-packages (from music21) (10.1.0)\n",
      "Requirement already satisfied: numpy in d:\\major\\musicgeneration\\env\\lib\\site-packages (from music21) (1.25.2)\n",
      "Requirement already satisfied: requests in d:\\major\\musicgeneration\\env\\lib\\site-packages (from music21) (2.31.0)\n",
      "Requirement already satisfied: webcolors>=1.5 in d:\\major\\musicgeneration\\env\\lib\\site-packages (from music21) (1.13)\n",
      "Requirement already satisfied: contourpy>=1.0.1 in d:\\major\\musicgeneration\\env\\lib\\site-packages (from matplotlib->music21) (1.1.0)\n",
      "Requirement already satisfied: cycler>=0.10 in d:\\major\\musicgeneration\\env\\lib\\site-packages (from matplotlib->music21) (0.11.0)\n",
      "Requirement already satisfied: fonttools>=4.22.0 in d:\\major\\musicgeneration\\env\\lib\\site-packages (from matplotlib->music21) (4.42.0)\n",
      "Requirement already satisfied: kiwisolver>=1.0.1 in d:\\major\\musicgeneration\\env\\lib\\site-packages (from matplotlib->music21) (1.4.4)\n",
      "Requirement already satisfied: packaging>=20.0 in d:\\major\\musicgeneration\\env\\lib\\site-packages (from matplotlib->music21) (23.1)\n",
      "Requirement already satisfied: pillow>=6.2.0 in d:\\major\\musicgeneration\\env\\lib\\site-packages (from matplotlib->music21) (10.0.0)\n",
      "Requirement already satisfied: pyparsing<3.1,>=2.3.1 in d:\\major\\musicgeneration\\env\\lib\\site-packages (from matplotlib->music21) (3.0.9)\n",
      "Requirement already satisfied: python-dateutil>=2.7 in d:\\major\\musicgeneration\\env\\lib\\site-packages (from matplotlib->music21) (2.8.2)\n",
      "Requirement already satisfied: charset-normalizer<4,>=2 in d:\\major\\musicgeneration\\env\\lib\\site-packages (from requests->music21) (3.2.0)\n",
      "Requirement already satisfied: idna<4,>=2.5 in d:\\major\\musicgeneration\\env\\lib\\site-packages (from requests->music21) (3.4)\n",
      "Requirement already satisfied: urllib3<3,>=1.21.1 in d:\\major\\musicgeneration\\env\\lib\\site-packages (from requests->music21) (2.0.4)\n",
      "Requirement already satisfied: certifi>=2017.4.17 in d:\\major\\musicgeneration\\env\\lib\\site-packages (from requests->music21) (2023.7.22)\n",
      "Requirement already satisfied: six>=1.5 in d:\\major\\musicgeneration\\env\\lib\\site-packages (from python-dateutil>=2.7->matplotlib->music21) (1.16.0)\n",
      "Note: you may need to restart the kernel to use updated packages.\n"
     ]
    }
   ],
   "source": [
    "%pip install music21"
   ]
  },
  {
   "cell_type": "code",
   "execution_count": 14,
   "metadata": {},
   "outputs": [],
   "source": [
    "from music21 import *\n",
    "# def read_midi(file):\n",
    "    \n",
    "#     print(\"Loading Music File:\",file)\n",
    "    \n",
    "#     notes=[]\n",
    "#     notes_to_parse = None\n",
    "    \n",
    "#     #parsing a midi file\n",
    "#     midi = converter.parse(file)\n",
    "  \n",
    "#     #grouping based on different instruments\n",
    "#     s2 = instrument.partitionByInstrument(midi)\n",
    "\n",
    "#     #Looping over all the instruments\n",
    "#     for part in s2.parts:\n",
    "    \n",
    "#         #select elements of only piano\n",
    "#         if 'Piano' in str(part): \n",
    "        \n",
    "#             notes_to_parse = part.recurse() \n",
    "      \n",
    "#             #finding whether a particular element is note or a chord\n",
    "#             for element in notes_to_parse:\n",
    "                \n",
    "#                 #note\n",
    "#                 if isinstance(element, note.Note):\n",
    "#                     notes.append(str(element.pitch))\n",
    "                \n",
    "#                 #chord\n",
    "#                 elif isinstance(element, chord.Chord):\n",
    "#                     notes.append('.'.join(str(n) for n in element.normalOrder))\n",
    "\n",
    "#     return np.array(notes)\n",
    "\n",
    "def read_midi(file):\n",
    "    print(\"Loading Music File:\", file)\n",
    "    \n",
    "    notes = []\n",
    "    notes_to_parse = None\n",
    "    \n",
    "    # parsing a midi file\n",
    "    midi = converter.parse(file)\n",
    "  \n",
    "    # grouping based on different instruments\n",
    "    s2 = instrument.partitionByInstrument(midi)\n",
    "\n",
    "    # Looping over all the instruments\n",
    "    for part in s2.parts:\n",
    "        # select elements of only piano\n",
    "        if 'Piano' in str(part): \n",
    "            notes_to_parse = part.recurse() \n",
    "      \n",
    "            # finding whether a particular element is note or a chord\n",
    "            for element in notes_to_parse:\n",
    "                # note\n",
    "                if isinstance(element, note.Note):\n",
    "                    notes.append(str(element.pitch))\n",
    "                # chord\n",
    "                elif isinstance(element, chord.Chord):\n",
    "                    notes.append('.'.join(str(n) for n in element.normalOrder))\n",
    "\n",
    "    return notes"
   ]
  },
  {
   "cell_type": "code",
   "execution_count": 15,
   "metadata": {},
   "outputs": [
    {
     "name": "stdout",
     "output_type": "stream",
     "text": [
      "Loading Music File: schubert/schubert_D850_1.mid\n",
      "Loading Music File: schubert/schubert_D850_2.mid\n",
      "Loading Music File: schubert/schubert_D850_3.mid\n",
      "Loading Music File: schubert/schubert_D850_4.mid\n",
      "Loading Music File: schubert/schubert_D935_1.mid\n",
      "Loading Music File: schubert/schubert_D935_2.mid\n",
      "Loading Music File: schubert/schubert_D935_3.mid\n",
      "Loading Music File: schubert/schubert_D935_4.mid\n",
      "Loading Music File: schubert/schub_d760_1.mid\n",
      "Loading Music File: schubert/schub_d760_2.mid\n",
      "Loading Music File: schubert/schub_d760_3.mid\n",
      "Loading Music File: schubert/schub_d760_4.mid\n",
      "Loading Music File: schubert/schub_d960_1.mid\n",
      "Loading Music File: schubert/schub_d960_2.mid\n",
      "Loading Music File: schubert/schub_d960_3.mid\n",
      "Loading Music File: schubert/schub_d960_4.mid\n",
      "Loading Music File: schubert/schuim-1.mid\n",
      "Loading Music File: schubert/schuim-2.mid\n",
      "Loading Music File: schubert/schuim-3.mid\n",
      "Loading Music File: schubert/schuim-4.mid\n",
      "Loading Music File: schubert/schumm-1.mid\n",
      "Loading Music File: schubert/schumm-2.mid\n",
      "Loading Music File: schubert/schumm-3.mid\n",
      "Loading Music File: schubert/schumm-4.mid\n",
      "Loading Music File: schubert/schumm-5.mid\n",
      "Loading Music File: schubert/schumm-6.mid\n",
      "Loading Music File: schubert/schu_143_1.mid\n",
      "Loading Music File: schubert/schu_143_2.mid\n",
      "Loading Music File: schubert/schu_143_3.mid\n"
     ]
    }
   ],
   "source": [
    "#for listing down the file names\n",
    "import os\n",
    "\n",
    "#Array Processing\n",
    "import numpy as np\n",
    "\n",
    "#specify the path\n",
    "# path='../Music-Generation-Using-Deep-Learning/schubert/'\n",
    "path='schubert/'\n",
    "\n",
    "#read all the filenames\n",
    "files=[i for i in os.listdir(path) if i.endswith(\".mid\")]\n",
    "\n",
    "#reading each midi file\n",
    "# notes_array = np.array([read_midi(path+i) for i in files])\n",
    "notes_list = [read_midi(path + i) for i in files]"
   ]
  },
  {
   "cell_type": "code",
   "execution_count": 16,
   "metadata": {},
   "outputs": [
    {
     "name": "stdout",
     "output_type": "stream",
     "text": [
      "345\n"
     ]
    }
   ],
   "source": [
    "#converting 2D array into 1D array\n",
    "notes_ = [element for note_ in notes_list for element in note_]\n",
    "\n",
    "#No. of unique notes\n",
    "unique_notes = list(set(notes_))\n",
    "print(len(unique_notes))"
   ]
  },
  {
   "cell_type": "code",
   "execution_count": 18,
   "metadata": {},
   "outputs": [
    {
     "data": {
      "text/plain": [
       "(array([221.,  40.,  31.,  13.,   8.,   3.,   7.,   9.,   7.,   6.]),\n",
       " array([1.0000e+00, 1.6170e+02, 3.2240e+02, 4.8310e+02, 6.4380e+02,\n",
       "        8.0450e+02, 9.6520e+02, 1.1259e+03, 1.2866e+03, 1.4473e+03,\n",
       "        1.6080e+03]),\n",
       " <BarContainer object of 10 artists>)"
      ]
     },
     "execution_count": 18,
     "metadata": {},
     "output_type": "execute_result"
    },
    {
     "data": {
      "image/png": "[encoded data removed]",
      "text/plain": [
       "<Figure size 500x500 with 1 Axes>"
      ]
     },
     "metadata": {
      "image/png": {
       "height": 428,
       "width": 443
      }
     },
     "output_type": "display_data"
    }
   ],
   "source": [
    "#importing library\n",
    "from collections import Counter\n",
    "\n",
    "#computing frequency of each note\n",
    "freq = dict(Counter(notes_))\n",
    "\n",
    "#library for visualiation\n",
    "import matplotlib.pyplot as plt\n",
    "\n",
    "#consider only the frequencies\n",
    "no=[count for _,count in freq.items()]\n",
    "\n",
    "#set the figure size\n",
    "plt.figure(figsize=(5,5))\n",
    "\n",
    "#plot\n",
    "plt.hist(no)"
   ]
  },
  {
   "cell_type": "code",
   "execution_count": 19,
   "metadata": {},
   "outputs": [
    {
     "name": "stdout",
     "output_type": "stream",
     "text": [
      "182\n"
     ]
    }
   ],
   "source": [
    "frequent_notes = [note_ for note_, count in freq.items() if count>=50]\n",
    "print(len(frequent_notes))"
   ]
  },
  {
   "cell_type": "code",
   "execution_count": 22,
   "metadata": {},
   "outputs": [],
   "source": [
    "# new_music=[]\n",
    "\n",
    "# for notes in notes_list:\n",
    "#     temp=[]\n",
    "#     for note_ in notes:\n",
    "#         if note_ in frequent_notes:\n",
    "#             temp.append(note_)            \n",
    "#     new_music.append(temp)\n",
    "    \n",
    "# new_music = np.array(new_music)\n",
    "new_music = []\n",
    "\n",
    "for notes in notes_list:\n",
    "    temp = []\n",
    "    for note_ in notes:\n",
    "        if note_ in frequent_notes:\n",
    "            temp.append(note_)\n",
    "    new_music.append(np.array(temp))  # Convert the temp list to a NumPy array and append\n",
    "\n",
    "# Now new_music is a list of NumPy arrays"
   ]
  },
  {
   "cell_type": "code",
   "execution_count": 23,
   "metadata": {},
   "outputs": [],
   "source": [
    "no_of_timesteps = 32\n",
    "x = []\n",
    "y = []\n",
    "\n",
    "for note_ in new_music:\n",
    "    for i in range(0, len(note_) - no_of_timesteps, 1):\n",
    "        \n",
    "        #preparing input and output sequences\n",
    "        input_ = note_[i:i + no_of_timesteps]\n",
    "        output = note_[i + no_of_timesteps]\n",
    "        \n",
    "        x.append(input_)\n",
    "        y.append(output)\n",
    "        \n",
    "x=np.array(x)\n",
    "y=np.array(y)"
   ]
  },
  {
   "cell_type": "code",
   "execution_count": 24,
   "metadata": {},
   "outputs": [],
   "source": [
    "unique_x = list(set(x.ravel()))\n",
    "x_note_to_int = dict((note_, number) for number, note_ in enumerate(unique_x))"
   ]
  },
  {
   "cell_type": "code",
   "execution_count": 25,
   "metadata": {},
   "outputs": [],
   "source": [
    "#preparing input sequences\n",
    "x_seq=[]\n",
    "for i in x:\n",
    "    temp=[]\n",
    "    for j in i:\n",
    "        #assigning unique integer to every note\n",
    "        temp.append(x_note_to_int[j])\n",
    "    x_seq.append(temp)\n",
    "    \n",
    "x_seq = np.array(x_seq)"
   ]
  },
  {
   "cell_type": "code",
   "execution_count": 26,
   "metadata": {},
   "outputs": [],
   "source": [
    "unique_y = list(set(y))\n",
    "y_note_to_int = dict((note_, number) for number, note_ in enumerate(unique_y)) \n",
    "y_seq=np.array([y_note_to_int[i] for i in y])"
   ]
  },
  {
   "cell_type": "code",
   "execution_count": 28,
   "metadata": {},
   "outputs": [],
   "source": [
    "from sklearn.model_selection import train_test_split\n",
    "x_tr, x_val, y_tr, y_val = train_test_split(x_seq,y_seq,test_size=0.2,random_state=0)"
   ]
  },
  {
   "cell_type": "code",
   "execution_count": 29,
   "metadata": {},
   "outputs": [],
   "source": [
    "# def lstm():\n",
    "#   model = Sequential()\n",
    "#   model.add(LSTM(128,return_sequences=True))\n",
    "#   model.add(LSTM(128))\n",
    "#   model.add(Dense(256))\n",
    "#   model.add(Activation('relu'))\n",
    "#   model.add(Dense(n_vocab))\n",
    "#   model.add(Activation('softmax'))\n",
    "#   model.compile(loss='sparse_categorical_crossentropy', optimizer='adam')\n",
    "#   return model"
   ]
  },
  {
   "cell_type": "code",
   "execution_count": 31,
   "metadata": {},
   "outputs": [
    {
     "name": "stdout",
     "output_type": "stream",
     "text": [
      "Model: \"sequential\"\n",
      "_________________________________________________________________\n",
      " Layer (type)                Output Shape              Param #   \n",
      "=================================================================\n",
      " embedding (Embedding)       (None, 32, 100)           18200     \n",
      "                                                                 \n",
      " conv1d (Conv1D)             (None, 32, 64)            19264     \n",
      "                                                                 \n",
      " dropout (Dropout)           (None, 32, 64)            0         \n",
      "                                                                 \n",
      " max_pooling1d (MaxPooling1  (None, 16, 64)            0         \n",
      " D)                                                              \n",
      "                                                                 \n",
      " conv1d_1 (Conv1D)           (None, 16, 128)           24704     \n",
      "                                                                 \n",
      " dropout_1 (Dropout)         (None, 16, 128)           0         \n",
      "                                                                 \n",
      " max_pooling1d_1 (MaxPoolin  (None, 8, 128)            0         \n",
      " g1D)                                                            \n",
      "                                                                 \n",
      " conv1d_2 (Conv1D)           (None, 8, 256)            98560     \n",
      "                                                                 \n",
      " dropout_2 (Dropout)         (None, 8, 256)            0         \n",
      "                                                                 \n",
      " max_pooling1d_2 (MaxPoolin  (None, 4, 256)            0         \n",
      " g1D)                                                            \n",
      "                                                                 \n",
      " global_max_pooling1d (Glob  (None, 256)               0         \n",
      " alMaxPooling1D)                                                 \n",
      "                                                                 \n",
      " dense (Dense)               (None, 256)               65792     \n",
      "                                                                 \n",
      " dense_1 (Dense)             (None, 182)               46774     \n",
      "                                                                 \n",
      "=================================================================\n",
      "Total params: 273294 (1.04 MB)\n",
      "Trainable params: 273294 (1.04 MB)\n",
      "Non-trainable params: 0 (0.00 Byte)\n",
      "_________________________________________________________________\n"
     ]
    }
   ],
   "source": [
    "from keras.layers import (Dense,\n",
    "                            Flatten,Conv1D,Embedding,MaxPool1D,Dropout,GlobalMaxPool1D)\n",
    "from keras.models import Sequential\n",
    "from keras.callbacks import ModelCheckpoint\n",
    "# import keras.backend as K\n",
    "\n",
    "# K.clear_session()\n",
    "model = Sequential()\n",
    "    \n",
    "#embedding layer\n",
    "model.add(Embedding(len(unique_x), 100, input_length=32,trainable=True)) \n",
    "\n",
    "model.add(Conv1D(64,3, padding='causal',activation='relu'))\n",
    "model.add(Dropout(0.2))\n",
    "model.add(MaxPool1D(2))\n",
    "    \n",
    "model.add(Conv1D(128,3,activation='relu',dilation_rate=2,padding='causal'))\n",
    "model.add(Dropout(0.2))\n",
    "model.add(MaxPool1D(2))\n",
    "\n",
    "model.add(Conv1D(256,3,activation='relu',dilation_rate=4,padding='causal'))\n",
    "model.add(Dropout(0.2))\n",
    "model.add(MaxPool1D(2))\n",
    "          \n",
    "#model.add(Conv1D(256,5,activation='relu'))    \n",
    "model.add(GlobalMaxPool1D())\n",
    "    \n",
    "model.add(Dense(256, activation='relu'))\n",
    "model.add(Dense(len(unique_y), activation='softmax'))\n",
    "    \n",
    "model.compile(loss='sparse_categorical_crossentropy', optimizer='adam',metrics=['acc'])\n",
    "\n",
    "model.summary()"
   ]
  },
  {
   "cell_type": "code",
   "execution_count": 32,
   "metadata": {},
   "outputs": [],
   "source": [
    "mc=ModelCheckpoint('best_model.h5', monitor='val_acc', mode='max', save_best_only=True,verbose=1)"
   ]
  },
  {
   "cell_type": "code",
   "execution_count": 38,
   "metadata": {},
   "outputs": [],
   "source": [
    "from keras.callbacks import ModelCheckpoint\n",
    "filepath = \"../working/saved_models-improvement-{epoch:02d}-{val_acc:.2f}.h5\"\n",
    "checkpoint = ModelCheckpoint(filepath,monitor = 'val_acc',verbose = 1,save_best_only = True,mode = 'max')\n",
    "callbacks_list = [checkpoint]"
   ]
  },
  {
   "cell_type": "code",
   "execution_count": 48,
   "metadata": {},
   "outputs": [
    {
     "name": "stdout",
     "output_type": "stream",
     "text": [
      "Epoch 1/10\n",
      "492/492 [==============================] - 18s 36ms/step - loss: 2.5040 - acc: 0.2829 - val_loss: 2.9174 - val_acc: 0.2334\n",
      "Epoch 2/10\n",
      "492/492 [==============================] - 23s 48ms/step - loss: 2.4916 - acc: 0.2872 - val_loss: 2.8987 - val_acc: 0.2396\n",
      "Epoch 3/10\n",
      "492/492 [==============================] - 31s 63ms/step - loss: 2.4849 - acc: 0.2876 - val_loss: 2.9103 - val_acc: 0.2385\n",
      "Epoch 4/10\n",
      "492/492 [==============================] - 35s 71ms/step - loss: 2.4731 - acc: 0.2899 - val_loss: 2.8902 - val_acc: 0.2404\n",
      "Epoch 5/10\n",
      "492/492 [==============================] - 35s 72ms/step - loss: 2.4753 - acc: 0.2868 - val_loss: 2.8915 - val_acc: 0.2441\n",
      "Epoch 6/10\n",
      "492/492 [==============================] - 37s 75ms/step - loss: 2.4627 - acc: 0.2906 - val_loss: 2.8835 - val_acc: 0.2462\n",
      "Epoch 7/10\n",
      "492/492 [==============================] - 34s 70ms/step - loss: 2.4599 - acc: 0.2883 - val_loss: 2.8702 - val_acc: 0.2518\n",
      "Epoch 8/10\n",
      "492/492 [==============================] - 31s 62ms/step - loss: 2.4549 - acc: 0.2930 - val_loss: 2.8783 - val_acc: 0.2492\n",
      "Epoch 9/10\n",
      "492/492 [==============================] - 33s 67ms/step - loss: 2.4481 - acc: 0.2933 - val_loss: 2.8803 - val_acc: 0.2486\n",
      "Epoch 10/10\n",
      "492/492 [==============================] - 32s 64ms/step - loss: 2.4368 - acc: 0.2962 - val_loss: 2.8651 - val_acc: 0.2503\n"
     ]
    }
   ],
   "source": [
    "history = model.fit(np.array(x_tr),np.array(y_tr),batch_size=128,epochs=100, validation_data=(np.array(x_val),np.array(y_val)),verbose=1)"
   ]
  },
  {
   "cell_type": "code",
   "execution_count": 49,
   "metadata": {},
   "outputs": [],
   "source": [
    "# #loading best model\n",
    "# from keras.models import load_model\n",
    "# model = load_model('best_model.h5')"
   ]
  },
  {
   "cell_type": "code",
   "execution_count": 50,
   "metadata": {},
   "outputs": [
    {
     "data": {
      "text/plain": [
       "15725"
      ]
     },
     "execution_count": 50,
     "metadata": {},
     "output_type": "execute_result"
    }
   ],
   "source": [
    "len(x_val)"
   ]
  },
  {
   "cell_type": "code",
   "execution_count": 51,
   "metadata": {},
   "outputs": [
    {
     "name": "stdout",
     "output_type": "stream",
     "text": [
      "1/1 [==============================] - 0s 18ms/step\n",
      "1/1 [==============================] - 0s 21ms/step\n",
      "1/1 [==============================] - 0s 21ms/step\n",
      "1/1 [==============================] - 0s 18ms/step\n",
      "1/1 [==============================] - 0s 23ms/step\n",
      "1/1 [==============================] - 0s 18ms/step\n",
      "1/1 [==============================] - 0s 20ms/step\n",
      "1/1 [==============================] - 0s 18ms/step\n",
      "1/1 [==============================] - 0s 17ms/step\n",
      "1/1 [==============================] - 0s 18ms/step\n",
      "[72, 72, 72, 72, 144, 144, 138, 138, 138, 138]\n"
     ]
    }
   ],
   "source": [
    "import random\n",
    "ind = np.random.randint(0,len(x_val)-1)\n",
    "\n",
    "random_music = x_val[ind]\n",
    "\n",
    "predictions=[]\n",
    "for i in range(10):\n",
    "\n",
    "    random_music = random_music.reshape(1,no_of_timesteps)\n",
    "\n",
    "    prob  = model.predict(random_music)[0]\n",
    "    y_pred= np.argmax(prob,axis=0)\n",
    "    predictions.append(y_pred)\n",
    "\n",
    "    random_music = np.insert(random_music[0],len(random_music[0]),y_pred)\n",
    "    random_music = random_music[1:]\n",
    "    \n",
    "print(predictions)"
   ]
  },
  {
   "cell_type": "code",
   "execution_count": 52,
   "metadata": {},
   "outputs": [
    {
     "data": {
      "text/plain": [
       "array([169,   0, 169,   0, 169, 168, 160, 107,  54,  65, 122,  65,  72,\n",
       "         9,  72,  42,  87,  42,  87,   9,  42,  72,  72,  72,  72,  72,\n",
       "       144, 144, 138, 138, 138, 138])"
      ]
     },
     "execution_count": 52,
     "metadata": {},
     "output_type": "execute_result"
    }
   ],
   "source": [
    "random_music"
   ]
  },
  {
   "cell_type": "code",
   "execution_count": null,
   "metadata": {},
   "outputs": [],
   "source": []
  },
  {
   "cell_type": "code",
   "execution_count": null,
   "metadata": {},
   "outputs": [],
   "source": []
  },
  {
   "cell_type": "code",
   "execution_count": null,
   "metadata": {},
   "outputs": [],
   "source": []
  },
  {
   "cell_type": "code",
   "execution_count": null,
   "metadata": {},
   "outputs": [],
   "source": []
  },
  {
   "cell_type": "code",
   "execution_count": 53,
   "metadata": {},
   "outputs": [],
   "source": [
    "x_int_to_note = dict((number, note_) for number, note_ in enumerate(unique_x)) \n",
    "predicted_notes = [x_int_to_note[i] for i in predictions]"
   ]
  },
  {
   "cell_type": "code",
   "execution_count": 55,
   "metadata": {},
   "outputs": [],
   "source": [
    "def convert_to_midi(prediction_output):\n",
    "   \n",
    "    offset = 0\n",
    "    output_notes = []\n",
    "\n",
    "    # create note and chord objects based on the values generated by the model\n",
    "    for pattern in prediction_output:\n",
    "        \n",
    "        # pattern is a chord\n",
    "        if ('.' in pattern) or pattern.isdigit():\n",
    "            notes_in_chord = pattern.split('.')\n",
    "            notes = []\n",
    "            for current_note in notes_in_chord:\n",
    "                \n",
    "                cn=int(current_note)\n",
    "                new_note = note.Note(cn)\n",
    "                new_note.storedInstrument = instrument.Piano()\n",
    "                notes.append(new_note)\n",
    "                \n",
    "            new_chord = chord.Chord(notes)\n",
    "            new_chord.offset = offset\n",
    "            output_notes.append(new_chord)\n",
    "            \n",
    "        # pattern is a note\n",
    "        else:\n",
    "            \n",
    "            new_note = note.Note(pattern)\n",
    "            new_note.offset = offset\n",
    "            new_note.storedInstrument = instrument.Piano()\n",
    "            output_notes.append(new_note)\n",
    "\n",
    "        # increase offset each iteration so that notes do not stack\n",
    "        offset += 1\n",
    "    midi_stream = stream.Stream(output_notes)\n",
    "    midi_stream.write('midi', fp='music.mid')"
   ]
  },
  {
   "cell_type": "code",
   "execution_count": 56,
   "metadata": {},
   "outputs": [],
   "source": [
    "convert_to_midi(predicted_notes)"
   ]
  },
  {
   "cell_type": "code",
   "execution_count": null,
   "metadata": {},
   "outputs": [],
   "source": []
  },
  {
   "cell_type": "code",
   "execution_count": null,
   "metadata": {},
   "outputs": [],
   "source": []
  },
  {
   "cell_type": "code",
   "execution_count": null,
   "metadata": {},
   "outputs": [],
   "source": []
  },
  {
   "cell_type": "code",
   "execution_count": null,
   "metadata": {},
   "outputs": [],
   "source": []
  },
  {
   "cell_type": "code",
   "execution_count": null,
   "metadata": {},
   "outputs": [],
   "source": []
  },
  {
   "cell_type": "code",
   "execution_count": null,
   "metadata": {},
   "outputs": [],
   "source": []
  },
  {
   "cell_type": "code",
   "execution_count": null,
   "metadata": {},
   "outputs": [],
   "source": []
  },
  {
   "cell_type": "code",
   "execution_count": null,
   "metadata": {},
   "outputs": [],
   "source": []
  },
  {
   "cell_type": "code",
   "execution_count": null,
   "metadata": {},
   "outputs": [],
   "source": []
  },
  {
   "cell_type": "code",
   "execution_count": null,
   "metadata": {},
   "outputs": [],
   "source": []
  },
  {
   "cell_type": "code",
   "execution_count": null,
   "metadata": {},
   "outputs": [],
   "source": []
  },
  {
   "cell_type": "code",
   "execution_count": null,
   "metadata": {},
   "outputs": [],
   "source": []
  },
  {
   "cell_type": "code",
   "execution_count": null,
   "metadata": {},
   "outputs": [],
   "source": []
  },
  {
   "cell_type": "code",
   "execution_count": null,
   "metadata": {},
   "outputs": [],
   "source": []
  },
  {
   "cell_type": "code",
   "execution_count": null,
   "metadata": {},
   "outputs": [],
   "source": []
  },
  {
   "cell_type": "code",
   "execution_count": null,
   "metadata": {},
   "outputs": [],
   "source": []
  },
  {
   "cell_type": "code",
   "execution_count": null,
   "metadata": {},
   "outputs": [],
   "source": []
  }
 ],
 "metadata": {
  "kernelspec": {
   "display_name": "Python 3",
   "language": "python",
   "name": "python3"
  },
  "language_info": {
   "codemirror_mode": {
    "name": "ipython",
    "version": 3
   },
   "file_extension": ".py",
   "mimetype": "text/x-python",
   "name": "python",
   "nbconvert_exporter": "python",
   "pygments_lexer": "ipython3",
   "version": "3.10.7"
  }
 },
 "nbformat": 4,
 "nbformat_minor": 4
}
